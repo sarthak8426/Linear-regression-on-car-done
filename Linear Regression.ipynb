{
 "cells": [
  {
   "cell_type": "code",
   "execution_count": 1,
   "id": "65688ed9",
   "metadata": {},
   "outputs": [],
   "source": [
    "import pandas as pd\n",
    "import numpy as np\n",
    "import matplotlib.pyplot as plt \n",
    "import seaborn as sns\n",
    "import warnings\n",
    "warnings.filterwarnings(\"ignore\")"
   ]
  },
  {
   "cell_type": "code",
   "execution_count": 2,
   "id": "54f24ba0",
   "metadata": {},
   "outputs": [],
   "source": [
    "df = pd.read_csv(\"car_done.csv\")"
   ]
  },
  {
   "cell_type": "code",
   "execution_count": 3,
   "id": "111e29c9",
   "metadata": {},
   "outputs": [
    {
     "data": {
      "text/html": [
       "<div>\n",
       "<style scoped>\n",
       "    .dataframe tbody tr th:only-of-type {\n",
       "        vertical-align: middle;\n",
       "    }\n",
       "\n",
       "    .dataframe tbody tr th {\n",
       "        vertical-align: top;\n",
       "    }\n",
       "\n",
       "    .dataframe thead th {\n",
       "        text-align: right;\n",
       "    }\n",
       "</style>\n",
       "<table border=\"1\" class=\"dataframe\">\n",
       "  <thead>\n",
       "    <tr style=\"text-align: right;\">\n",
       "      <th></th>\n",
       "      <th>Unnamed: 0</th>\n",
       "      <th>Manufacturer</th>\n",
       "      <th>Model</th>\n",
       "      <th>Sales_in_thousands</th>\n",
       "      <th>four_year_resale_value</th>\n",
       "      <th>Vehicle_type</th>\n",
       "      <th>Price_in_thousands</th>\n",
       "      <th>Engine_size</th>\n",
       "      <th>Horsepower</th>\n",
       "      <th>Wheelbase</th>\n",
       "      <th>Width</th>\n",
       "      <th>Length</th>\n",
       "      <th>Curb_weight</th>\n",
       "      <th>Fuel_capacity</th>\n",
       "      <th>Fuel_efficiency</th>\n",
       "      <th>Latest_Launch</th>\n",
       "      <th>Power_perf_factor</th>\n",
       "    </tr>\n",
       "  </thead>\n",
       "  <tbody>\n",
       "    <tr>\n",
       "      <th>0</th>\n",
       "      <td>0</td>\n",
       "      <td>Acura</td>\n",
       "      <td>Integra</td>\n",
       "      <td>16.919</td>\n",
       "      <td>16.360</td>\n",
       "      <td>Passenger</td>\n",
       "      <td>21.50</td>\n",
       "      <td>1.8</td>\n",
       "      <td>140.0</td>\n",
       "      <td>101.2</td>\n",
       "      <td>67.3</td>\n",
       "      <td>172.4</td>\n",
       "      <td>2.639</td>\n",
       "      <td>13.2</td>\n",
       "      <td>28.0</td>\n",
       "      <td>2/2/2012</td>\n",
       "      <td>58.280150</td>\n",
       "    </tr>\n",
       "    <tr>\n",
       "      <th>1</th>\n",
       "      <td>1</td>\n",
       "      <td>Acura</td>\n",
       "      <td>TL</td>\n",
       "      <td>39.384</td>\n",
       "      <td>19.875</td>\n",
       "      <td>Passenger</td>\n",
       "      <td>28.40</td>\n",
       "      <td>3.2</td>\n",
       "      <td>225.0</td>\n",
       "      <td>108.1</td>\n",
       "      <td>70.3</td>\n",
       "      <td>192.9</td>\n",
       "      <td>3.517</td>\n",
       "      <td>17.2</td>\n",
       "      <td>25.0</td>\n",
       "      <td>6/3/2011</td>\n",
       "      <td>91.370778</td>\n",
       "    </tr>\n",
       "    <tr>\n",
       "      <th>2</th>\n",
       "      <td>2</td>\n",
       "      <td>Acura</td>\n",
       "      <td>CL</td>\n",
       "      <td>14.114</td>\n",
       "      <td>18.225</td>\n",
       "      <td>Passenger</td>\n",
       "      <td>NaN</td>\n",
       "      <td>3.2</td>\n",
       "      <td>225.0</td>\n",
       "      <td>106.9</td>\n",
       "      <td>70.6</td>\n",
       "      <td>192.0</td>\n",
       "      <td>3.470</td>\n",
       "      <td>17.2</td>\n",
       "      <td>26.0</td>\n",
       "      <td>1/4/2012</td>\n",
       "      <td>NaN</td>\n",
       "    </tr>\n",
       "    <tr>\n",
       "      <th>3</th>\n",
       "      <td>3</td>\n",
       "      <td>Acura</td>\n",
       "      <td>RL</td>\n",
       "      <td>8.588</td>\n",
       "      <td>29.725</td>\n",
       "      <td>Passenger</td>\n",
       "      <td>42.00</td>\n",
       "      <td>3.5</td>\n",
       "      <td>210.0</td>\n",
       "      <td>114.6</td>\n",
       "      <td>71.4</td>\n",
       "      <td>196.6</td>\n",
       "      <td>3.850</td>\n",
       "      <td>18.0</td>\n",
       "      <td>22.0</td>\n",
       "      <td>3/10/2011</td>\n",
       "      <td>91.389779</td>\n",
       "    </tr>\n",
       "    <tr>\n",
       "      <th>4</th>\n",
       "      <td>4</td>\n",
       "      <td>Audi</td>\n",
       "      <td>A4</td>\n",
       "      <td>20.397</td>\n",
       "      <td>22.255</td>\n",
       "      <td>Passenger</td>\n",
       "      <td>23.99</td>\n",
       "      <td>1.8</td>\n",
       "      <td>150.0</td>\n",
       "      <td>102.6</td>\n",
       "      <td>68.2</td>\n",
       "      <td>178.0</td>\n",
       "      <td>2.998</td>\n",
       "      <td>16.4</td>\n",
       "      <td>27.0</td>\n",
       "      <td>10/8/2011</td>\n",
       "      <td>62.777639</td>\n",
       "    </tr>\n",
       "    <tr>\n",
       "      <th>...</th>\n",
       "      <td>...</td>\n",
       "      <td>...</td>\n",
       "      <td>...</td>\n",
       "      <td>...</td>\n",
       "      <td>...</td>\n",
       "      <td>...</td>\n",
       "      <td>...</td>\n",
       "      <td>...</td>\n",
       "      <td>...</td>\n",
       "      <td>...</td>\n",
       "      <td>...</td>\n",
       "      <td>...</td>\n",
       "      <td>...</td>\n",
       "      <td>...</td>\n",
       "      <td>...</td>\n",
       "      <td>...</td>\n",
       "      <td>...</td>\n",
       "    </tr>\n",
       "    <tr>\n",
       "      <th>152</th>\n",
       "      <td>152</td>\n",
       "      <td>Volvo</td>\n",
       "      <td>V40</td>\n",
       "      <td>3.545</td>\n",
       "      <td>NaN</td>\n",
       "      <td>Passenger</td>\n",
       "      <td>24.40</td>\n",
       "      <td>1.9</td>\n",
       "      <td>160.0</td>\n",
       "      <td>100.5</td>\n",
       "      <td>67.6</td>\n",
       "      <td>176.6</td>\n",
       "      <td>3.042</td>\n",
       "      <td>15.8</td>\n",
       "      <td>25.0</td>\n",
       "      <td>9/21/2011</td>\n",
       "      <td>66.498812</td>\n",
       "    </tr>\n",
       "    <tr>\n",
       "      <th>153</th>\n",
       "      <td>153</td>\n",
       "      <td>Volvo</td>\n",
       "      <td>S70</td>\n",
       "      <td>15.245</td>\n",
       "      <td>NaN</td>\n",
       "      <td>Passenger</td>\n",
       "      <td>27.50</td>\n",
       "      <td>2.4</td>\n",
       "      <td>168.0</td>\n",
       "      <td>104.9</td>\n",
       "      <td>69.3</td>\n",
       "      <td>185.9</td>\n",
       "      <td>3.208</td>\n",
       "      <td>17.9</td>\n",
       "      <td>25.0</td>\n",
       "      <td>11/24/2012</td>\n",
       "      <td>70.654495</td>\n",
       "    </tr>\n",
       "    <tr>\n",
       "      <th>154</th>\n",
       "      <td>154</td>\n",
       "      <td>Volvo</td>\n",
       "      <td>V70</td>\n",
       "      <td>17.531</td>\n",
       "      <td>NaN</td>\n",
       "      <td>Passenger</td>\n",
       "      <td>28.80</td>\n",
       "      <td>2.4</td>\n",
       "      <td>168.0</td>\n",
       "      <td>104.9</td>\n",
       "      <td>69.3</td>\n",
       "      <td>186.2</td>\n",
       "      <td>3.259</td>\n",
       "      <td>17.9</td>\n",
       "      <td>25.0</td>\n",
       "      <td>6/25/2011</td>\n",
       "      <td>71.155978</td>\n",
       "    </tr>\n",
       "    <tr>\n",
       "      <th>155</th>\n",
       "      <td>155</td>\n",
       "      <td>Volvo</td>\n",
       "      <td>C70</td>\n",
       "      <td>3.493</td>\n",
       "      <td>NaN</td>\n",
       "      <td>Passenger</td>\n",
       "      <td>45.50</td>\n",
       "      <td>2.3</td>\n",
       "      <td>236.0</td>\n",
       "      <td>104.9</td>\n",
       "      <td>71.5</td>\n",
       "      <td>185.7</td>\n",
       "      <td>3.601</td>\n",
       "      <td>18.5</td>\n",
       "      <td>23.0</td>\n",
       "      <td>4/26/2011</td>\n",
       "      <td>101.623357</td>\n",
       "    </tr>\n",
       "    <tr>\n",
       "      <th>156</th>\n",
       "      <td>156</td>\n",
       "      <td>Volvo</td>\n",
       "      <td>S80</td>\n",
       "      <td>18.969</td>\n",
       "      <td>NaN</td>\n",
       "      <td>Passenger</td>\n",
       "      <td>36.00</td>\n",
       "      <td>2.9</td>\n",
       "      <td>201.0</td>\n",
       "      <td>109.9</td>\n",
       "      <td>72.1</td>\n",
       "      <td>189.8</td>\n",
       "      <td>3.600</td>\n",
       "      <td>21.1</td>\n",
       "      <td>24.0</td>\n",
       "      <td>11/14/2011</td>\n",
       "      <td>85.735655</td>\n",
       "    </tr>\n",
       "  </tbody>\n",
       "</table>\n",
       "<p>157 rows × 17 columns</p>\n",
       "</div>"
      ],
      "text/plain": [
       "     Unnamed: 0 Manufacturer    Model  Sales_in_thousands  \\\n",
       "0             0        Acura  Integra              16.919   \n",
       "1             1        Acura       TL              39.384   \n",
       "2             2        Acura       CL              14.114   \n",
       "3             3        Acura       RL               8.588   \n",
       "4             4         Audi       A4              20.397   \n",
       "..          ...          ...      ...                 ...   \n",
       "152         152        Volvo      V40               3.545   \n",
       "153         153        Volvo      S70              15.245   \n",
       "154         154        Volvo      V70              17.531   \n",
       "155         155        Volvo      C70               3.493   \n",
       "156         156        Volvo      S80              18.969   \n",
       "\n",
       "     four_year_resale_value Vehicle_type  Price_in_thousands  Engine_size  \\\n",
       "0                    16.360    Passenger               21.50          1.8   \n",
       "1                    19.875    Passenger               28.40          3.2   \n",
       "2                    18.225    Passenger                 NaN          3.2   \n",
       "3                    29.725    Passenger               42.00          3.5   \n",
       "4                    22.255    Passenger               23.99          1.8   \n",
       "..                      ...          ...                 ...          ...   \n",
       "152                     NaN    Passenger               24.40          1.9   \n",
       "153                     NaN    Passenger               27.50          2.4   \n",
       "154                     NaN    Passenger               28.80          2.4   \n",
       "155                     NaN    Passenger               45.50          2.3   \n",
       "156                     NaN    Passenger               36.00          2.9   \n",
       "\n",
       "     Horsepower  Wheelbase  Width  Length  Curb_weight  Fuel_capacity  \\\n",
       "0         140.0      101.2   67.3   172.4        2.639           13.2   \n",
       "1         225.0      108.1   70.3   192.9        3.517           17.2   \n",
       "2         225.0      106.9   70.6   192.0        3.470           17.2   \n",
       "3         210.0      114.6   71.4   196.6        3.850           18.0   \n",
       "4         150.0      102.6   68.2   178.0        2.998           16.4   \n",
       "..          ...        ...    ...     ...          ...            ...   \n",
       "152       160.0      100.5   67.6   176.6        3.042           15.8   \n",
       "153       168.0      104.9   69.3   185.9        3.208           17.9   \n",
       "154       168.0      104.9   69.3   186.2        3.259           17.9   \n",
       "155       236.0      104.9   71.5   185.7        3.601           18.5   \n",
       "156       201.0      109.9   72.1   189.8        3.600           21.1   \n",
       "\n",
       "     Fuel_efficiency Latest_Launch  Power_perf_factor  \n",
       "0               28.0      2/2/2012          58.280150  \n",
       "1               25.0      6/3/2011          91.370778  \n",
       "2               26.0      1/4/2012                NaN  \n",
       "3               22.0     3/10/2011          91.389779  \n",
       "4               27.0     10/8/2011          62.777639  \n",
       "..               ...           ...                ...  \n",
       "152             25.0     9/21/2011          66.498812  \n",
       "153             25.0    11/24/2012          70.654495  \n",
       "154             25.0     6/25/2011          71.155978  \n",
       "155             23.0     4/26/2011         101.623357  \n",
       "156             24.0    11/14/2011          85.735655  \n",
       "\n",
       "[157 rows x 17 columns]"
      ]
     },
     "execution_count": 3,
     "metadata": {},
     "output_type": "execute_result"
    }
   ],
   "source": [
    "df"
   ]
  },
  {
   "cell_type": "code",
   "execution_count": 4,
   "id": "66865b0f",
   "metadata": {},
   "outputs": [],
   "source": [
    "df.drop(columns = \"Unnamed: 0\",inplace = True)"
   ]
  },
  {
   "cell_type": "code",
   "execution_count": 5,
   "id": "8df247b7",
   "metadata": {},
   "outputs": [
    {
     "data": {
      "text/plain": [
       "Manufacturer               0\n",
       "Model                      0\n",
       "Sales_in_thousands         0\n",
       "four_year_resale_value    36\n",
       "Vehicle_type               0\n",
       "Price_in_thousands         2\n",
       "Engine_size                1\n",
       "Horsepower                 1\n",
       "Wheelbase                  1\n",
       "Width                      1\n",
       "Length                     1\n",
       "Curb_weight                2\n",
       "Fuel_capacity              1\n",
       "Fuel_efficiency            3\n",
       "Latest_Launch              0\n",
       "Power_perf_factor          2\n",
       "dtype: int64"
      ]
     },
     "execution_count": 5,
     "metadata": {},
     "output_type": "execute_result"
    }
   ],
   "source": [
    "df.isnull().sum()"
   ]
  },
  {
   "cell_type": "code",
   "execution_count": 6,
   "id": "d205f086",
   "metadata": {},
   "outputs": [],
   "source": [
    "df[\"four_year_resale_value\"].fillna(value=14.16,inplace = True)"
   ]
  },
  {
   "cell_type": "code",
   "execution_count": 7,
   "id": "d5ef4305",
   "metadata": {},
   "outputs": [],
   "source": [
    "df.ffill(inplace=True)"
   ]
  },
  {
   "cell_type": "code",
   "execution_count": 8,
   "id": "a8e7c407",
   "metadata": {},
   "outputs": [],
   "source": [
    "df[\"Sales_in_thousands\"]=np.where(df[\"Sales_in_thousands\"]>257.0863424,257.0863424,df[\"Sales_in_thousands\"])\n",
    "df[\"Engine_size\"]=np.where(df[\"Engine_size\"]>6.194856356,6.194856356,df[\"Engine_size\"])\n",
    "df[\"Horsepower\"]=np.where(df[\"Horsepower\"]>356.0496805,356.0496805,df[\"Horsepower\"])\n",
    "df[\"Fuel_efficiency\"]=np.where(df[\"Fuel_efficiency\"]>36.69,36.69,df[\"Fuel_efficiency\"])\n",
    "df[\"Power_perf_factor\"]=np.where(df[\"Power_perf_factor\"]>152.4,154.4,df[\"Power_perf_factor\"])"
   ]
  },
  {
   "cell_type": "code",
   "execution_count": 9,
   "id": "b88b3559",
   "metadata": {},
   "outputs": [
    {
     "data": {
      "text/html": [
       "<div>\n",
       "<style scoped>\n",
       "    .dataframe tbody tr th:only-of-type {\n",
       "        vertical-align: middle;\n",
       "    }\n",
       "\n",
       "    .dataframe tbody tr th {\n",
       "        vertical-align: top;\n",
       "    }\n",
       "\n",
       "    .dataframe thead th {\n",
       "        text-align: right;\n",
       "    }\n",
       "</style>\n",
       "<table border=\"1\" class=\"dataframe\">\n",
       "  <thead>\n",
       "    <tr style=\"text-align: right;\">\n",
       "      <th></th>\n",
       "      <th>Manufacturer</th>\n",
       "      <th>Model</th>\n",
       "      <th>Sales_in_thousands</th>\n",
       "      <th>four_year_resale_value</th>\n",
       "      <th>Vehicle_type</th>\n",
       "      <th>Price_in_thousands</th>\n",
       "      <th>Engine_size</th>\n",
       "      <th>Horsepower</th>\n",
       "      <th>Wheelbase</th>\n",
       "      <th>Width</th>\n",
       "      <th>Length</th>\n",
       "      <th>Curb_weight</th>\n",
       "      <th>Fuel_capacity</th>\n",
       "      <th>Fuel_efficiency</th>\n",
       "      <th>Latest_Launch</th>\n",
       "      <th>Power_perf_factor</th>\n",
       "    </tr>\n",
       "  </thead>\n",
       "  <tbody>\n",
       "    <tr>\n",
       "      <th>0</th>\n",
       "      <td>Acura</td>\n",
       "      <td>Integra</td>\n",
       "      <td>16.919</td>\n",
       "      <td>16.360</td>\n",
       "      <td>Passenger</td>\n",
       "      <td>21.50</td>\n",
       "      <td>1.8</td>\n",
       "      <td>140.0</td>\n",
       "      <td>101.2</td>\n",
       "      <td>67.3</td>\n",
       "      <td>172.4</td>\n",
       "      <td>2.639</td>\n",
       "      <td>13.2</td>\n",
       "      <td>28.0</td>\n",
       "      <td>2/2/2012</td>\n",
       "      <td>58.280150</td>\n",
       "    </tr>\n",
       "    <tr>\n",
       "      <th>1</th>\n",
       "      <td>Acura</td>\n",
       "      <td>TL</td>\n",
       "      <td>39.384</td>\n",
       "      <td>19.875</td>\n",
       "      <td>Passenger</td>\n",
       "      <td>28.40</td>\n",
       "      <td>3.2</td>\n",
       "      <td>225.0</td>\n",
       "      <td>108.1</td>\n",
       "      <td>70.3</td>\n",
       "      <td>192.9</td>\n",
       "      <td>3.517</td>\n",
       "      <td>17.2</td>\n",
       "      <td>25.0</td>\n",
       "      <td>6/3/2011</td>\n",
       "      <td>91.370778</td>\n",
       "    </tr>\n",
       "    <tr>\n",
       "      <th>2</th>\n",
       "      <td>Acura</td>\n",
       "      <td>CL</td>\n",
       "      <td>14.114</td>\n",
       "      <td>18.225</td>\n",
       "      <td>Passenger</td>\n",
       "      <td>28.40</td>\n",
       "      <td>3.2</td>\n",
       "      <td>225.0</td>\n",
       "      <td>106.9</td>\n",
       "      <td>70.6</td>\n",
       "      <td>192.0</td>\n",
       "      <td>3.470</td>\n",
       "      <td>17.2</td>\n",
       "      <td>26.0</td>\n",
       "      <td>1/4/2012</td>\n",
       "      <td>91.370778</td>\n",
       "    </tr>\n",
       "    <tr>\n",
       "      <th>3</th>\n",
       "      <td>Acura</td>\n",
       "      <td>RL</td>\n",
       "      <td>8.588</td>\n",
       "      <td>29.725</td>\n",
       "      <td>Passenger</td>\n",
       "      <td>42.00</td>\n",
       "      <td>3.5</td>\n",
       "      <td>210.0</td>\n",
       "      <td>114.6</td>\n",
       "      <td>71.4</td>\n",
       "      <td>196.6</td>\n",
       "      <td>3.850</td>\n",
       "      <td>18.0</td>\n",
       "      <td>22.0</td>\n",
       "      <td>3/10/2011</td>\n",
       "      <td>91.389779</td>\n",
       "    </tr>\n",
       "    <tr>\n",
       "      <th>4</th>\n",
       "      <td>Audi</td>\n",
       "      <td>A4</td>\n",
       "      <td>20.397</td>\n",
       "      <td>22.255</td>\n",
       "      <td>Passenger</td>\n",
       "      <td>23.99</td>\n",
       "      <td>1.8</td>\n",
       "      <td>150.0</td>\n",
       "      <td>102.6</td>\n",
       "      <td>68.2</td>\n",
       "      <td>178.0</td>\n",
       "      <td>2.998</td>\n",
       "      <td>16.4</td>\n",
       "      <td>27.0</td>\n",
       "      <td>10/8/2011</td>\n",
       "      <td>62.777639</td>\n",
       "    </tr>\n",
       "    <tr>\n",
       "      <th>...</th>\n",
       "      <td>...</td>\n",
       "      <td>...</td>\n",
       "      <td>...</td>\n",
       "      <td>...</td>\n",
       "      <td>...</td>\n",
       "      <td>...</td>\n",
       "      <td>...</td>\n",
       "      <td>...</td>\n",
       "      <td>...</td>\n",
       "      <td>...</td>\n",
       "      <td>...</td>\n",
       "      <td>...</td>\n",
       "      <td>...</td>\n",
       "      <td>...</td>\n",
       "      <td>...</td>\n",
       "      <td>...</td>\n",
       "    </tr>\n",
       "    <tr>\n",
       "      <th>152</th>\n",
       "      <td>Volvo</td>\n",
       "      <td>V40</td>\n",
       "      <td>3.545</td>\n",
       "      <td>14.160</td>\n",
       "      <td>Passenger</td>\n",
       "      <td>24.40</td>\n",
       "      <td>1.9</td>\n",
       "      <td>160.0</td>\n",
       "      <td>100.5</td>\n",
       "      <td>67.6</td>\n",
       "      <td>176.6</td>\n",
       "      <td>3.042</td>\n",
       "      <td>15.8</td>\n",
       "      <td>25.0</td>\n",
       "      <td>9/21/2011</td>\n",
       "      <td>66.498812</td>\n",
       "    </tr>\n",
       "    <tr>\n",
       "      <th>153</th>\n",
       "      <td>Volvo</td>\n",
       "      <td>S70</td>\n",
       "      <td>15.245</td>\n",
       "      <td>14.160</td>\n",
       "      <td>Passenger</td>\n",
       "      <td>27.50</td>\n",
       "      <td>2.4</td>\n",
       "      <td>168.0</td>\n",
       "      <td>104.9</td>\n",
       "      <td>69.3</td>\n",
       "      <td>185.9</td>\n",
       "      <td>3.208</td>\n",
       "      <td>17.9</td>\n",
       "      <td>25.0</td>\n",
       "      <td>11/24/2012</td>\n",
       "      <td>70.654495</td>\n",
       "    </tr>\n",
       "    <tr>\n",
       "      <th>154</th>\n",
       "      <td>Volvo</td>\n",
       "      <td>V70</td>\n",
       "      <td>17.531</td>\n",
       "      <td>14.160</td>\n",
       "      <td>Passenger</td>\n",
       "      <td>28.80</td>\n",
       "      <td>2.4</td>\n",
       "      <td>168.0</td>\n",
       "      <td>104.9</td>\n",
       "      <td>69.3</td>\n",
       "      <td>186.2</td>\n",
       "      <td>3.259</td>\n",
       "      <td>17.9</td>\n",
       "      <td>25.0</td>\n",
       "      <td>6/25/2011</td>\n",
       "      <td>71.155978</td>\n",
       "    </tr>\n",
       "    <tr>\n",
       "      <th>155</th>\n",
       "      <td>Volvo</td>\n",
       "      <td>C70</td>\n",
       "      <td>3.493</td>\n",
       "      <td>14.160</td>\n",
       "      <td>Passenger</td>\n",
       "      <td>45.50</td>\n",
       "      <td>2.3</td>\n",
       "      <td>236.0</td>\n",
       "      <td>104.9</td>\n",
       "      <td>71.5</td>\n",
       "      <td>185.7</td>\n",
       "      <td>3.601</td>\n",
       "      <td>18.5</td>\n",
       "      <td>23.0</td>\n",
       "      <td>4/26/2011</td>\n",
       "      <td>101.623357</td>\n",
       "    </tr>\n",
       "    <tr>\n",
       "      <th>156</th>\n",
       "      <td>Volvo</td>\n",
       "      <td>S80</td>\n",
       "      <td>18.969</td>\n",
       "      <td>14.160</td>\n",
       "      <td>Passenger</td>\n",
       "      <td>36.00</td>\n",
       "      <td>2.9</td>\n",
       "      <td>201.0</td>\n",
       "      <td>109.9</td>\n",
       "      <td>72.1</td>\n",
       "      <td>189.8</td>\n",
       "      <td>3.600</td>\n",
       "      <td>21.1</td>\n",
       "      <td>24.0</td>\n",
       "      <td>11/14/2011</td>\n",
       "      <td>85.735655</td>\n",
       "    </tr>\n",
       "  </tbody>\n",
       "</table>\n",
       "<p>157 rows × 16 columns</p>\n",
       "</div>"
      ],
      "text/plain": [
       "    Manufacturer    Model  Sales_in_thousands  four_year_resale_value  \\\n",
       "0          Acura  Integra              16.919                  16.360   \n",
       "1          Acura       TL              39.384                  19.875   \n",
       "2          Acura       CL              14.114                  18.225   \n",
       "3          Acura       RL               8.588                  29.725   \n",
       "4           Audi       A4              20.397                  22.255   \n",
       "..           ...      ...                 ...                     ...   \n",
       "152        Volvo      V40               3.545                  14.160   \n",
       "153        Volvo      S70              15.245                  14.160   \n",
       "154        Volvo      V70              17.531                  14.160   \n",
       "155        Volvo      C70               3.493                  14.160   \n",
       "156        Volvo      S80              18.969                  14.160   \n",
       "\n",
       "    Vehicle_type  Price_in_thousands  Engine_size  Horsepower  Wheelbase  \\\n",
       "0      Passenger               21.50          1.8       140.0      101.2   \n",
       "1      Passenger               28.40          3.2       225.0      108.1   \n",
       "2      Passenger               28.40          3.2       225.0      106.9   \n",
       "3      Passenger               42.00          3.5       210.0      114.6   \n",
       "4      Passenger               23.99          1.8       150.0      102.6   \n",
       "..           ...                 ...          ...         ...        ...   \n",
       "152    Passenger               24.40          1.9       160.0      100.5   \n",
       "153    Passenger               27.50          2.4       168.0      104.9   \n",
       "154    Passenger               28.80          2.4       168.0      104.9   \n",
       "155    Passenger               45.50          2.3       236.0      104.9   \n",
       "156    Passenger               36.00          2.9       201.0      109.9   \n",
       "\n",
       "     Width  Length  Curb_weight  Fuel_capacity  Fuel_efficiency Latest_Launch  \\\n",
       "0     67.3   172.4        2.639           13.2             28.0      2/2/2012   \n",
       "1     70.3   192.9        3.517           17.2             25.0      6/3/2011   \n",
       "2     70.6   192.0        3.470           17.2             26.0      1/4/2012   \n",
       "3     71.4   196.6        3.850           18.0             22.0     3/10/2011   \n",
       "4     68.2   178.0        2.998           16.4             27.0     10/8/2011   \n",
       "..     ...     ...          ...            ...              ...           ...   \n",
       "152   67.6   176.6        3.042           15.8             25.0     9/21/2011   \n",
       "153   69.3   185.9        3.208           17.9             25.0    11/24/2012   \n",
       "154   69.3   186.2        3.259           17.9             25.0     6/25/2011   \n",
       "155   71.5   185.7        3.601           18.5             23.0     4/26/2011   \n",
       "156   72.1   189.8        3.600           21.1             24.0    11/14/2011   \n",
       "\n",
       "     Power_perf_factor  \n",
       "0            58.280150  \n",
       "1            91.370778  \n",
       "2            91.370778  \n",
       "3            91.389779  \n",
       "4            62.777639  \n",
       "..                 ...  \n",
       "152          66.498812  \n",
       "153          70.654495  \n",
       "154          71.155978  \n",
       "155         101.623357  \n",
       "156          85.735655  \n",
       "\n",
       "[157 rows x 16 columns]"
      ]
     },
     "execution_count": 9,
     "metadata": {},
     "output_type": "execute_result"
    }
   ],
   "source": [
    "df"
   ]
  },
  {
   "cell_type": "code",
   "execution_count": 10,
   "id": "f8246a0f",
   "metadata": {},
   "outputs": [],
   "source": [
    "df.drop(columns=\"Latest_Launch\",inplace = True)"
   ]
  },
  {
   "cell_type": "code",
   "execution_count": 11,
   "id": "358e7488",
   "metadata": {},
   "outputs": [
    {
     "name": "stdout",
     "output_type": "stream",
     "text": [
      "<class 'pandas.core.frame.DataFrame'>\n",
      "RangeIndex: 157 entries, 0 to 156\n",
      "Data columns (total 15 columns):\n",
      " #   Column                  Non-Null Count  Dtype  \n",
      "---  ------                  --------------  -----  \n",
      " 0   Manufacturer            157 non-null    object \n",
      " 1   Model                   157 non-null    object \n",
      " 2   Sales_in_thousands      157 non-null    float64\n",
      " 3   four_year_resale_value  157 non-null    float64\n",
      " 4   Vehicle_type            157 non-null    object \n",
      " 5   Price_in_thousands      157 non-null    float64\n",
      " 6   Engine_size             157 non-null    float64\n",
      " 7   Horsepower              157 non-null    float64\n",
      " 8   Wheelbase               157 non-null    float64\n",
      " 9   Width                   157 non-null    float64\n",
      " 10  Length                  157 non-null    float64\n",
      " 11  Curb_weight             157 non-null    float64\n",
      " 12  Fuel_capacity           157 non-null    float64\n",
      " 13  Fuel_efficiency         157 non-null    float64\n",
      " 14  Power_perf_factor       157 non-null    float64\n",
      "dtypes: float64(12), object(3)\n",
      "memory usage: 18.5+ KB\n"
     ]
    }
   ],
   "source": [
    "df.info()"
   ]
  },
  {
   "cell_type": "code",
   "execution_count": 15,
   "id": "52cf11a5",
   "metadata": {},
   "outputs": [],
   "source": [
    "df1 = pd.get_dummies(df,columns = [\"Vehicle_type\"],drop_first=True)"
   ]
  },
  {
   "cell_type": "code",
   "execution_count": 20,
   "id": "d113a2eb",
   "metadata": {},
   "outputs": [],
   "source": [
    "df[\"Vehicle_dummy\"] = np.where(df[\"Vehicle_type\"]==\"Car\",1,0)"
   ]
  },
  {
   "cell_type": "code",
   "execution_count": 23,
   "id": "6a69386c",
   "metadata": {},
   "outputs": [
    {
     "data": {
      "text/plain": [
       "Index(['Manufacturer', 'Model', 'Sales_in_thousands', 'four_year_resale_value',\n",
       "       'Price_in_thousands', 'Engine_size', 'Horsepower', 'Wheelbase', 'Width',\n",
       "       'Length', 'Curb_weight', 'Fuel_capacity', 'Fuel_efficiency',\n",
       "       'Power_perf_factor', 'Vehicle_type_Passenger'],\n",
       "      dtype='object')"
      ]
     },
     "execution_count": 23,
     "metadata": {},
     "output_type": "execute_result"
    }
   ],
   "source": [
    "df1.columns"
   ]
  },
  {
   "cell_type": "code",
   "execution_count": 24,
   "id": "7b03f8d5",
   "metadata": {},
   "outputs": [],
   "source": [
    "y = df1[\"Sales_in_thousands\"]\n",
    "X = df1[['four_year_resale_value',\n",
    "       'Price_in_thousands', 'Engine_size', 'Horsepower', 'Wheelbase', 'Width',\n",
    "       'Length', 'Curb_weight', 'Fuel_capacity', 'Fuel_efficiency',\n",
    "       'Power_perf_factor', 'Vehicle_type_Passenger']]"
   ]
  },
  {
   "cell_type": "code",
   "execution_count": 25,
   "id": "755e12be",
   "metadata": {},
   "outputs": [],
   "source": [
    "from sklearn.model_selection import train_test_split"
   ]
  },
  {
   "cell_type": "code",
   "execution_count": 30,
   "id": "681632ac",
   "metadata": {},
   "outputs": [],
   "source": [
    "X_train , X_test , y_train,y_test = train_test_split(X,y,test_size=.3,random_state=66)"
   ]
  },
  {
   "cell_type": "code",
   "execution_count": 31,
   "id": "28ebce51",
   "metadata": {},
   "outputs": [
    {
     "name": "stdout",
     "output_type": "stream",
     "text": [
      "(109, 12)\n",
      "(109,)\n",
      "(48, 12)\n",
      "(48,)\n"
     ]
    }
   ],
   "source": [
    "print(X_train.shape)\n",
    "print(y_train.shape)\n",
    "print(X_test.shape)\n",
    "print(y_test.shape)"
   ]
  },
  {
   "cell_type": "code",
   "execution_count": 40,
   "id": "8b4ab76f",
   "metadata": {},
   "outputs": [],
   "source": [
    "import statsmodels.api as sm"
   ]
  },
  {
   "cell_type": "code",
   "execution_count": 41,
   "id": "0f52f7d1",
   "metadata": {},
   "outputs": [],
   "source": [
    "X_train = sm.add_constant(X_train)\n",
    "X_test = sm.add_constant(X_test)"
   ]
  },
  {
   "cell_type": "code",
   "execution_count": 44,
   "id": "cb5bd708",
   "metadata": {},
   "outputs": [],
   "source": [
    "model1 = sm.OLS(y_train,X_train).fit()"
   ]
  },
  {
   "cell_type": "code",
   "execution_count": 45,
   "id": "7406009a",
   "metadata": {},
   "outputs": [
    {
     "name": "stdout",
     "output_type": "stream",
     "text": [
      "                            OLS Regression Results                            \n",
      "==============================================================================\n",
      "Dep. Variable:     Sales_in_thousands   R-squared:                       0.368\n",
      "Model:                            OLS   Adj. R-squared:                  0.289\n",
      "Method:                 Least Squares   F-statistic:                     4.660\n",
      "Date:                Tue, 09 Jul 2024   Prob (F-statistic):           6.30e-06\n",
      "Time:                        09:28:47   Log-Likelihood:                -562.56\n",
      "No. Observations:                 109   AIC:                             1151.\n",
      "Df Residuals:                      96   BIC:                             1186.\n",
      "Df Model:                          12                                         \n",
      "Covariance Type:            nonrobust                                         \n",
      "==========================================================================================\n",
      "                             coef    std err          t      P>|t|      [0.025      0.975]\n",
      "------------------------------------------------------------------------------------------\n",
      "const                   -209.6844    146.263     -1.434      0.155    -500.014      80.645\n",
      "four_year_resale_value     0.2633      0.731      0.360      0.720      -1.188       1.715\n",
      "Price_in_thousands       -25.1096    480.504     -0.052      0.958    -978.902     928.683\n",
      "Engine_size               10.4814    321.938      0.033      0.974    -628.561     649.524\n",
      "Horsepower               -22.8406    440.629     -0.052      0.959    -897.481     851.800\n",
      "Wheelbase                  1.8528      1.256      1.475      0.143      -0.641       4.346\n",
      "Width                      0.1762      2.200      0.080      0.936      -4.191       4.544\n",
      "Length                     0.5159      0.755      0.684      0.496      -0.982       2.014\n",
      "Curb_weight              -44.7946     20.907     -2.143      0.035     -86.295      -3.294\n",
      "Fuel_capacity              1.5021      2.721      0.552      0.582      -3.899       6.903\n",
      "Fuel_efficiency            3.8001      2.584      1.470      0.145      -1.330       8.930\n",
      "Power_perf_factor         63.7023   1245.724      0.051      0.959   -2409.040    2536.444\n",
      "Vehicle_type_Passenger   -43.1059     17.350     -2.485      0.015     -77.544      -8.667\n",
      "==============================================================================\n",
      "Omnibus:                       36.906   Durbin-Watson:                   2.128\n",
      "Prob(Omnibus):                  0.000   Jarque-Bera (JB):               77.374\n",
      "Skew:                           1.355   Prob(JB):                     1.58e-17\n",
      "Kurtosis:                       6.113   Cond. No.                     1.04e+05\n",
      "==============================================================================\n",
      "\n",
      "Notes:\n",
      "[1] Standard Errors assume that the covariance matrix of the errors is correctly specified.\n",
      "[2] The condition number is large, 1.04e+05. This might indicate that there are\n",
      "strong multicollinearity or other numerical problems.\n"
     ]
    }
   ],
   "source": [
    "print(model1.summary())"
   ]
  },
  {
   "cell_type": "code",
   "execution_count": 46,
   "id": "3a851009",
   "metadata": {},
   "outputs": [
    {
     "data": {
      "text/plain": [
       "<AxesSubplot:xlabel='Sales_in_thousands', ylabel='Density'>"
      ]
     },
     "execution_count": 46,
     "metadata": {},
     "output_type": "execute_result"
    },
    {
     "data": {
      "image/png": "[encoded data removed]",
      "text/plain": [
       "<Figure size 432x288 with 1 Axes>"
      ]
     },
     "metadata": {
      "needs_background": "light"
     },
     "output_type": "display_data"
    }
   ],
   "source": [
    "import seaborn as sns\n",
    "sns.distplot(df[\"Sales_in_thousands\"])"
   ]
  },
  {
   "cell_type": "code",
   "execution_count": 50,
   "id": "83062618",
   "metadata": {},
   "outputs": [],
   "source": [
    "df1[\"Sales_log\"] = np.log(df1[\"Sales_in_thousands\"])"
   ]
  },
  {
   "cell_type": "code",
   "execution_count": 77,
   "id": "dba30566",
   "metadata": {},
   "outputs": [],
   "source": [
    "y = df1[\"Sales_log\"]\n",
    "X = df1[['four_year_resale_value',\n",
    "       'Price_in_thousands', 'Horsepower',\n",
    "       'Length', 'Vehicle_type_Passenger']]\n",
    "X_train , X_test , y_train,y_test = train_test_split(X,y,test_size=.3,random_state=66)"
   ]
  },
  {
   "cell_type": "code",
   "execution_count": 78,
   "id": "c53a25f8",
   "metadata": {},
   "outputs": [],
   "source": [
    "X_train = sm.add_constant(X_train)\n",
    "X_test = sm.add_constant(X_test)\n",
    "model2 = sm.OLS(y_train,X_train).fit()"
   ]
  },
  {
   "cell_type": "code",
   "execution_count": 79,
   "id": "1f8666ba",
   "metadata": {},
   "outputs": [
    {
     "name": "stdout",
     "output_type": "stream",
     "text": [
      "                            OLS Regression Results                            \n",
      "==============================================================================\n",
      "Dep. Variable:              Sales_log   R-squared:                       0.468\n",
      "Model:                            OLS   Adj. R-squared:                  0.442\n",
      "Method:                 Least Squares   F-statistic:                     18.12\n",
      "Date:                Tue, 09 Jul 2024   Prob (F-statistic):           7.33e-13\n",
      "Time:                        10:02:48   Log-Likelihood:                -154.53\n",
      "No. Observations:                 109   AIC:                             321.1\n",
      "Df Residuals:                     103   BIC:                             337.2\n",
      "Df Model:                           5                                         \n",
      "Covariance Type:            nonrobust                                         \n",
      "==========================================================================================\n",
      "                             coef    std err          t      P>|t|      [0.025      0.975]\n",
      "------------------------------------------------------------------------------------------\n",
      "const                      0.8077      1.517      0.532      0.596      -2.202       3.817\n",
      "four_year_resale_value     0.0069      0.015      0.464      0.643      -0.023       0.036\n",
      "Price_in_thousands        -0.0661      0.015     -4.471      0.000      -0.095      -0.037\n",
      "Horsepower                 0.0020      0.004      0.508      0.613      -0.006       0.010\n",
      "Length                     0.0226      0.009      2.560      0.012       0.005       0.040\n",
      "Vehicle_type_Passenger    -0.6904      0.225     -3.075      0.003      -1.136      -0.245\n",
      "==============================================================================\n",
      "Omnibus:                       53.066   Durbin-Watson:                   2.054\n",
      "Prob(Omnibus):                  0.000   Jarque-Bera (JB):              223.973\n",
      "Skew:                          -1.604   Prob(JB):                     2.32e-49\n",
      "Kurtosis:                       9.247   Cond. No.                     4.14e+03\n",
      "==============================================================================\n",
      "\n",
      "Notes:\n",
      "[1] Standard Errors assume that the covariance matrix of the errors is correctly specified.\n",
      "[2] The condition number is large, 4.14e+03. This might indicate that there are\n",
      "strong multicollinearity or other numerical problems.\n"
     ]
    }
   ],
   "source": [
    "print(model2.summary())"
   ]
  },
  {
   "cell_type": "code",
   "execution_count": 92,
   "id": "aae7663a",
   "metadata": {},
   "outputs": [],
   "source": [
    "X_train[\"Sales\"] = np.exp(model2.predict(X_train))"
   ]
  },
  {
   "cell_type": "code",
   "execution_count": 97,
   "id": "0ce4078f",
   "metadata": {},
   "outputs": [
    {
     "data": {
      "text/html": [
       "<div>\n",
       "<style scoped>\n",
       "    .dataframe tbody tr th:only-of-type {\n",
       "        vertical-align: middle;\n",
       "    }\n",
       "\n",
       "    .dataframe tbody tr th {\n",
       "        vertical-align: top;\n",
       "    }\n",
       "\n",
       "    .dataframe thead th {\n",
       "        text-align: right;\n",
       "    }\n",
       "</style>\n",
       "<table border=\"1\" class=\"dataframe\">\n",
       "  <thead>\n",
       "    <tr style=\"text-align: right;\">\n",
       "      <th></th>\n",
       "      <th>const</th>\n",
       "      <th>four_year_resale_value</th>\n",
       "      <th>Price_in_thousands</th>\n",
       "      <th>Horsepower</th>\n",
       "      <th>Length</th>\n",
       "      <th>Vehicle_type_Passenger</th>\n",
       "      <th>Sales</th>\n",
       "      <th>actual_sales</th>\n",
       "    </tr>\n",
       "  </thead>\n",
       "  <tbody>\n",
       "    <tr>\n",
       "      <th>69</th>\n",
       "      <td>1.0</td>\n",
       "      <td>18.810</td>\n",
       "      <td>26.895</td>\n",
       "      <td>195.0</td>\n",
       "      <td>181.5</td>\n",
       "      <td>0</td>\n",
       "      <td>38.133437</td>\n",
       "      <td>157.040</td>\n",
       "    </tr>\n",
       "    <tr>\n",
       "      <th>147</th>\n",
       "      <td>1.0</td>\n",
       "      <td>16.725</td>\n",
       "      <td>21.200</td>\n",
       "      <td>150.0</td>\n",
       "      <td>184.1</td>\n",
       "      <td>1</td>\n",
       "      <td>26.662187</td>\n",
       "      <td>51.102</td>\n",
       "    </tr>\n",
       "    <tr>\n",
       "      <th>89</th>\n",
       "      <td>1.0</td>\n",
       "      <td>14.875</td>\n",
       "      <td>22.605</td>\n",
       "      <td>200.0</td>\n",
       "      <td>212.0</td>\n",
       "      <td>1</td>\n",
       "      <td>49.693422</td>\n",
       "      <td>81.174</td>\n",
       "    </tr>\n",
       "    <tr>\n",
       "      <th>37</th>\n",
       "      <td>1.0</td>\n",
       "      <td>10.185</td>\n",
       "      <td>20.230</td>\n",
       "      <td>168.0</td>\n",
       "      <td>186.0</td>\n",
       "      <td>1</td>\n",
       "      <td>29.383799</td>\n",
       "      <td>71.186</td>\n",
       "    </tr>\n",
       "    <tr>\n",
       "      <th>101</th>\n",
       "      <td>1.0</td>\n",
       "      <td>8.450</td>\n",
       "      <td>13.499</td>\n",
       "      <td>126.0</td>\n",
       "      <td>177.5</td>\n",
       "      <td>1</td>\n",
       "      <td>34.439134</td>\n",
       "      <td>42.643</td>\n",
       "    </tr>\n",
       "    <tr>\n",
       "      <th>...</th>\n",
       "      <td>...</td>\n",
       "      <td>...</td>\n",
       "      <td>...</td>\n",
       "      <td>...</td>\n",
       "      <td>...</td>\n",
       "      <td>...</td>\n",
       "      <td>...</td>\n",
       "      <td>...</td>\n",
       "    </tr>\n",
       "    <tr>\n",
       "      <th>122</th>\n",
       "      <td>1.0</td>\n",
       "      <td>13.225</td>\n",
       "      <td>23.755</td>\n",
       "      <td>205.0</td>\n",
       "      <td>202.5</td>\n",
       "      <td>1</td>\n",
       "      <td>37.101283</td>\n",
       "      <td>35.945</td>\n",
       "    </tr>\n",
       "    <tr>\n",
       "      <th>51</th>\n",
       "      <td>1.0</td>\n",
       "      <td>14.210</td>\n",
       "      <td>22.195</td>\n",
       "      <td>200.0</td>\n",
       "      <td>212.0</td>\n",
       "      <td>1</td>\n",
       "      <td>50.825234</td>\n",
       "      <td>63.403</td>\n",
       "    </tr>\n",
       "    <tr>\n",
       "      <th>119</th>\n",
       "      <td>1.0</td>\n",
       "      <td>10.290</td>\n",
       "      <td>19.720</td>\n",
       "      <td>175.0</td>\n",
       "      <td>186.3</td>\n",
       "      <td>1</td>\n",
       "      <td>31.044898</td>\n",
       "      <td>131.097</td>\n",
       "    </tr>\n",
       "    <tr>\n",
       "      <th>60</th>\n",
       "      <td>1.0</td>\n",
       "      <td>17.525</td>\n",
       "      <td>26.600</td>\n",
       "      <td>205.0</td>\n",
       "      <td>178.2</td>\n",
       "      <td>0</td>\n",
       "      <td>36.482478</td>\n",
       "      <td>12.855</td>\n",
       "    </tr>\n",
       "    <tr>\n",
       "      <th>20</th>\n",
       "      <td>1.0</td>\n",
       "      <td>11.225</td>\n",
       "      <td>16.535</td>\n",
       "      <td>170.0</td>\n",
       "      <td>190.4</td>\n",
       "      <td>1</td>\n",
       "      <td>41.903178</td>\n",
       "      <td>135.126</td>\n",
       "    </tr>\n",
       "  </tbody>\n",
       "</table>\n",
       "<p>109 rows × 8 columns</p>\n",
       "</div>"
      ],
      "text/plain": [
       "     const  four_year_resale_value  Price_in_thousands  Horsepower  Length  \\\n",
       "69     1.0                  18.810              26.895       195.0   181.5   \n",
       "147    1.0                  16.725              21.200       150.0   184.1   \n",
       "89     1.0                  14.875              22.605       200.0   212.0   \n",
       "37     1.0                  10.185              20.230       168.0   186.0   \n",
       "101    1.0                   8.450              13.499       126.0   177.5   \n",
       "..     ...                     ...                 ...         ...     ...   \n",
       "122    1.0                  13.225              23.755       205.0   202.5   \n",
       "51     1.0                  14.210              22.195       200.0   212.0   \n",
       "119    1.0                  10.290              19.720       175.0   186.3   \n",
       "60     1.0                  17.525              26.600       205.0   178.2   \n",
       "20     1.0                  11.225              16.535       170.0   190.4   \n",
       "\n",
       "     Vehicle_type_Passenger      Sales  actual_sales  \n",
       "69                        0  38.133437       157.040  \n",
       "147                       1  26.662187        51.102  \n",
       "89                        1  49.693422        81.174  \n",
       "37                        1  29.383799        71.186  \n",
       "101                       1  34.439134        42.643  \n",
       "..                      ...        ...           ...  \n",
       "122                       1  37.101283        35.945  \n",
       "51                        1  50.825234        63.403  \n",
       "119                       1  31.044898       131.097  \n",
       "60                        0  36.482478        12.855  \n",
       "20                        1  41.903178       135.126  \n",
       "\n",
       "[109 rows x 8 columns]"
      ]
     },
     "execution_count": 97,
     "metadata": {},
     "output_type": "execute_result"
    }
   ],
   "source": [
    "X_train"
   ]
  },
  {
   "cell_type": "code",
   "execution_count": 96,
   "id": "46a63665",
   "metadata": {},
   "outputs": [],
   "source": [
    "X_train[\"actual_sales\"] = np.exp(y_train)"
   ]
  },
  {
   "cell_type": "code",
   "execution_count": 90,
   "id": "e912ddcb",
   "metadata": {},
   "outputs": [
    {
     "name": "stdout",
     "output_type": "stream",
     "text": [
      "MSE 2099.056159919414\n",
      "RMSE 45.81545765262434\n",
      "MAP 2.6581749284530343\n"
     ]
    }
   ],
   "source": [
    "print(\"MSE\",np.mean(np.square(error) ))\n",
    "print(\"RMSE\",np.sqrt(np.mean(np.square(error) )))\n",
    "print(\"MAP\",np.mean(abs(error/actual)))"
   ]
  },
  {
   "cell_type": "code",
   "execution_count": 98,
   "id": "304bfd89",
   "metadata": {},
   "outputs": [],
   "source": [
    "y = df1[\"Sales_log\"]\n",
    "X = df1[['four_year_resale_value',\n",
    "       'Price_in_thousands', 'Horsepower',\n",
    "       'Length', 'Vehicle_type_Passenger']]\n",
    "X_train , X_test , y_train,y_test = train_test_split(X,y,test_size=.3,random_state=66)"
   ]
  },
  {
   "cell_type": "code",
   "execution_count": 134,
   "id": "af5add6d",
   "metadata": {},
   "outputs": [],
   "source": [
    "from sklearn.linear_model import LinearRegression"
   ]
  },
  {
   "cell_type": "code",
   "execution_count": 135,
   "id": "8169e6d5",
   "metadata": {},
   "outputs": [
    {
     "data": {
      "text/plain": [
       "LinearRegression()"
      ]
     },
     "execution_count": 135,
     "metadata": {},
     "output_type": "execute_result"
    }
   ],
   "source": [
    "lr = LinearRegression()\n",
    "lr.fit(X_train,y_train)"
   ]
  },
  {
   "cell_type": "code",
   "execution_count": 136,
   "id": "836d2b15",
   "metadata": {},
   "outputs": [
    {
     "data": {
      "text/plain": [
       "0.4679627571383099"
      ]
     },
     "execution_count": 136,
     "metadata": {},
     "output_type": "execute_result"
    }
   ],
   "source": [
    "lr.score(X_train,y_train) # r-square"
   ]
  },
  {
   "cell_type": "code",
   "execution_count": 137,
   "id": "c6c62d91",
   "metadata": {},
   "outputs": [],
   "source": [
    "X_train1 = X_train"
   ]
  },
  {
   "cell_type": "code",
   "execution_count": 138,
   "id": "5af1c771",
   "metadata": {},
   "outputs": [],
   "source": [
    "X_train[\"pre_sales\"] = lr.predict(X_train1)"
   ]
  },
  {
   "cell_type": "code",
   "execution_count": 139,
   "id": "c6c3f273",
   "metadata": {},
   "outputs": [],
   "source": [
    "X_train1[\"pre_sales\"] = np.exp(X_train1[\"pre_sales\"])"
   ]
  },
  {
   "cell_type": "code",
   "execution_count": 140,
   "id": "65133a2b",
   "metadata": {},
   "outputs": [],
   "source": [
    "X_train.drop(columns = \"pre_sales\",inplace=True)"
   ]
  },
  {
   "cell_type": "code",
   "execution_count": 141,
   "id": "65e29955",
   "metadata": {},
   "outputs": [
    {
     "data": {
      "text/plain": [
       "0.8076963560037864"
      ]
     },
     "execution_count": 141,
     "metadata": {},
     "output_type": "execute_result"
    }
   ],
   "source": [
    "lr.intercept_"
   ]
  },
  {
   "cell_type": "code",
   "execution_count": 142,
   "id": "a14de5be",
   "metadata": {},
   "outputs": [
    {
     "data": {
      "text/plain": [
       "array([ 0.0069181 , -0.06614862,  0.00196475,  0.02258516, -0.69044494])"
      ]
     },
     "execution_count": 142,
     "metadata": {},
     "output_type": "execute_result"
    }
   ],
   "source": [
    "lr.coef_"
   ]
  },
  {
   "cell_type": "code",
   "execution_count": 143,
   "id": "fc427e32",
   "metadata": {},
   "outputs": [],
   "source": [
    "from sklearn.metrics import mean_absolute_percentage_error \n",
    "from sklearn.metrics import mean_squared_error , mean_absolute_error"
   ]
  },
  {
   "cell_type": "code",
   "execution_count": 144,
   "id": "ba70add8",
   "metadata": {},
   "outputs": [],
   "source": [
    "actual = np.exp(y_train)\n",
    "pre = np.exp(lr.predict(X_train))"
   ]
  },
  {
   "cell_type": "code",
   "execution_count": 145,
   "id": "9771fcd7",
   "metadata": {},
   "outputs": [],
   "source": [
    "MAP = mean_absolute_percentage_error(actual , pre)\n",
    "MSE = mean_squared_error(actual , pre)\n",
    "MAE = mean_absolute_error(actual , pre)"
   ]
  },
  {
   "cell_type": "code",
   "execution_count": 147,
   "id": "55c5f9a0",
   "metadata": {},
   "outputs": [
    {
     "name": "stdout",
     "output_type": "stream",
     "text": [
      "MAP 2.658174928453035\n",
      "MSE 2099.0561599194157\n",
      "RMSE 45.81545765262435\n",
      "MAE 26.90456192589938\n"
     ]
    }
   ],
   "source": [
    "print(\"MAP\",MAP)\n",
    "print(\"MSE\",MSE)\n",
    "print(\"RMSE\",np.sqrt(MSE))\n",
    "print(\"MAE\",MAE)"
   ]
  },
  {
   "cell_type": "code",
   "execution_count": null,
   "id": "9b80fe76",
   "metadata": {},
   "outputs": [],
   "source": []
  },
  {
   "cell_type": "code",
   "execution_count": null,
   "id": "73576b1f",
   "metadata": {},
   "outputs": [],
   "source": []
  },
  {
   "cell_type": "code",
   "execution_count": null,
   "id": "6f6c1aa0",
   "metadata": {},
   "outputs": [],
   "source": []
  }
 ],
 "metadata": {
  "kernelspec": {
   "display_name": "Python 3 (ipykernel)",
   "language": "python",
   "name": "python3"
  },
  "language_info": {
   "codemirror_mode": {
    "name": "ipython",
    "version": 3
   },
   "file_extension": ".py",
   "mimetype": "text/x-python",
   "name": "python",
   "nbconvert_exporter": "python",
   "pygments_lexer": "ipython3",
   "version": "3.9.12"
  }
 },
 "nbformat": 4,
 "nbformat_minor": 5
}
